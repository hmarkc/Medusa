{
 "cells": [
  {
   "cell_type": "markdown",
   "metadata": {},
   "source": [
    "# Inference Example with Medusa\n",
    "\n",
    "In this Jupyter notebook, we're going to demonstrate how to perform inference using the Medusa model on an interesting story prompt. Let's get the ball rolling!"
   ]
  },
  {
   "cell_type": "code",
   "execution_count": 1,
   "metadata": {},
   "outputs": [
    {
     "name": "stderr",
     "output_type": "stream",
     "text": [
      "/home/gstmchen/Medusa/venv/lib/python3.9/site-packages/tqdm/auto.py:21: TqdmWarning: IProgress not found. Please update jupyter and ipywidgets. See https://ipywidgets.readthedocs.io/en/stable/user_install.html\n",
      "  from .autonotebook import tqdm as notebook_tqdm\n",
      "Using `is_flash_attn_available` is deprecated and will be removed in v4.38. Please use `is_flash_attn_2_available` instead.\n"
     ]
    }
   ],
   "source": [
    "import os\n",
    "os.environ[\"CUDA_VISIBLE_DEVICES\"] = \"3\" # define GPU id, remove if you want to use all GPUs available\n",
    "import torch\n",
    "from tqdm import tqdm\n",
    "import time\n",
    "from contextlib import contextmanager\n",
    "import numpy as np\n",
    "from medusa.model.modeling_llama_kv_legacy import LlamaForCausalLM as KVLlamaForCausalLM\n",
    "from medusa.model.medusa_model_legacy import MedusaModel\n",
    "from medusa.model.kv_cache import *\n",
    "from medusa.model.utils_legacy import *\n",
    "from medusa.model.medusa_choices import *\n",
    "import transformers\n",
    "from huggingface_hub import hf_hub_download"
   ]
  },
  {
   "cell_type": "markdown",
   "metadata": {},
   "source": [
    "## Medusa Forward Function\n",
    "\n",
    "We define the medusa_forward function that will be used for generating stories based on the provided prompts.\n"
   ]
  },
  {
   "cell_type": "code",
   "execution_count": 2,
   "metadata": {},
   "outputs": [],
   "source": [
    "@contextmanager\n",
    "def timed(wall_times, key):\n",
    "    start = time.time()\n",
    "    torch.cuda.synchronize()\n",
    "    yield\n",
    "    torch.cuda.synchronize()\n",
    "    end = time.time()\n",
    "    elapsed_time = end - start\n",
    "    wall_times[key].append(elapsed_time)\n",
    "\n",
    "def medusa_forward(input_ids, model, tokenizer, medusa_choices, temperature, posterior_threshold, posterior_alpha, max_steps = 512):\n",
    "    wall_times = {'medusa': [], 'tree': [], 'posterior': [], 'update': [], 'init': []}\n",
    "    \n",
    "    with timed(wall_times, 'init'):\n",
    "        if hasattr(model, \"medusa_choices\") and model.medusa_choices == medusa_choices:\n",
    "            # Load the cached medusa buffer\n",
    "            medusa_buffers = model.medusa_buffers\n",
    "        else:\n",
    "            # Initialize the medusa buffer\n",
    "            medusa_buffers = generate_medusa_buffers(\n",
    "                medusa_choices, device=model.base_model.device\n",
    "            )\n",
    "        model.medusa_buffers = medusa_buffers\n",
    "        model.medusa_choices = medusa_choices\n",
    "\n",
    "        # Initialize the past key and value states\n",
    "        if hasattr(model, \"past_key_values\"):\n",
    "            past_key_values = model.past_key_values\n",
    "            past_key_values_data = model.past_key_values_data\n",
    "            current_length_data = model.current_length_data\n",
    "            # Reset the past key and value states\n",
    "            current_length_data.zero_()\n",
    "        else:\n",
    "            (\n",
    "                past_key_values,\n",
    "                past_key_values_data,\n",
    "                current_length_data,\n",
    "            ) = initialize_past_key_values(model.base_model)\n",
    "            model.past_key_values = past_key_values\n",
    "            model.past_key_values_data = past_key_values_data\n",
    "            model.current_length_data = current_length_data\n",
    "\n",
    "        input_len = input_ids.shape[1]\n",
    "        reset_medusa_mode(model)\n",
    "        medusa_logits, logits = initialize_medusa(\n",
    "                input_ids, model, medusa_buffers[\"medusa_attn_mask\"], past_key_values\n",
    "        )\n",
    "    new_token = 0\n",
    "\n",
    "    for idx in range(max_steps): \n",
    "        with timed(wall_times, 'medusa'):\n",
    "            candidates, tree_candidates = generate_candidates(\n",
    "                    medusa_logits,\n",
    "                    logits,\n",
    "                    medusa_buffers[\"tree_indices\"],\n",
    "                    medusa_buffers[\"retrieve_indices\"],\n",
    "                )\n",
    "\n",
    "        with timed(wall_times, 'tree'):\n",
    "            medusa_logits, logits, outputs = tree_decoding(\n",
    "                    model,\n",
    "                    tree_candidates,\n",
    "                    past_key_values,\n",
    "                    medusa_buffers[\"medusa_position_ids\"],\n",
    "                    input_ids,\n",
    "                    medusa_buffers[\"retrieve_indices\"],\n",
    "                )\n",
    "\n",
    "        with timed(wall_times, 'posterior'):\n",
    "            best_candidate, accept_length = evaluate_posterior(\n",
    "                    logits, candidates, temperature, posterior_threshold, posterior_alpha\n",
    "                )\n",
    "        \n",
    "        with timed(wall_times, 'update'):\n",
    "            input_ids, logits, medusa_logits, new_token = update_inference_inputs(\n",
    "                    input_ids,\n",
    "                    candidates,\n",
    "                    best_candidate,\n",
    "                    accept_length,\n",
    "                    medusa_buffers[\"retrieve_indices\"],\n",
    "                    outputs,\n",
    "                    logits,\n",
    "                    medusa_logits,\n",
    "                    new_token,\n",
    "                    past_key_values_data,\n",
    "                    current_length_data,\n",
    "                )\n",
    "\n",
    "        if tokenizer.eos_token_id in input_ids[0, input_len:].tolist():\n",
    "            break\n",
    "\n",
    "    return input_ids, new_token, idx, wall_times\n"
   ]
  },
  {
   "cell_type": "markdown",
   "metadata": {},
   "source": [
    "## Model Loading\n",
    "\n",
    "We load the model and tokenizer using the specified paths and configurations.\n"
   ]
  },
  {
   "cell_type": "code",
   "execution_count": 3,
   "metadata": {},
   "outputs": [
    {
     "name": "stdout",
     "output_type": "stream",
     "text": [
      "Overriding medusa_num_heads as: 4\n"
     ]
    },
    {
     "name": "stderr",
     "output_type": "stream",
     "text": [
      "Loading checkpoint shards:   0%|          | 0/3 [00:00<?, ?it/s]/home/gstmchen/Medusa/venv/lib/python3.9/site-packages/torch/_utils.py:776: UserWarning: TypedStorage is deprecated. It will be removed in the future and UntypedStorage will be the only storage class. This should only matter to you if you are using storages directly.  To access UntypedStorage directly, use tensor.untyped_storage() instead of tensor.storage()\n",
      "  return self.fget.__get__(instance, owner)()\n",
      "Loading checkpoint shards: 100%|██████████| 3/3 [00:10<00:00,  3.49s/it]\n",
      "You are using the default legacy behaviour of the <class 'transformers.models.llama.tokenization_llama.LlamaTokenizer'>. This is expected, and simply means that the `legacy` (previous) behavior will be used so nothing changes for you. If you want to use the new behaviour, set `legacy=False`. This should only be set if you understand what it means, and thoroughly read the reason why this was added as explained in https://github.com/huggingface/transformers/pull/24565\n"
     ]
    },
    {
     "name": "stdout",
     "output_type": "stream",
     "text": [
      "[2024-04-04 09:21:12,373] [INFO] [real_accelerator.py:191:get_accelerator] Setting ds_accelerator to cuda (auto detect)\n"
     ]
    }
   ],
   "source": [
    "model_name = 'FasterDecoding/medusa-vicuna-13b-v1.3'\n",
    "model = MedusaModel.from_pretrained(\n",
    "    model_name,\n",
    "    medusa_num_heads = 4,\n",
    "    torch_dtype=torch.float16,\n",
    "    low_cpu_mem_usage=True,\n",
    "    # device_map=\"auto\"\n",
    ")\n",
    "model.to('cuda')\n",
    "tokenizer = model.get_tokenizer()\n",
    "\n",
    "medusa_choices = mc_sim_7b_63\n",
    "\n"
   ]
  },
  {
   "cell_type": "code",
   "execution_count": 4,
   "metadata": {},
   "outputs": [
    {
     "name": "stdout",
     "output_type": "stream",
     "text": [
      "Number of trainable parameters: 760238080\n",
      "Percentage of trainable parameters: 5.52%\n"
     ]
    }
   ],
   "source": [
    "# print trainable parameters\n",
    "num_params = sum(p.numel() for n, p in model.named_parameters() if 'medusa' in n)\n",
    "print(f\"Number of trainable parameters: {num_params}\")\n",
    "# print percentage of trainable parameters\n",
    "total_params = sum(p.numel() for p in model.parameters())\n",
    "print(f\"Percentage of trainable parameters: {num_params/total_params*100:.2f}%\")"
   ]
  },
  {
   "cell_type": "markdown",
   "metadata": {},
   "source": [
    "## Setting Inference Parameters\n",
    "\n",
    "Next, we set some parameters that will be used during the inference process.\n"
   ]
  },
  {
   "cell_type": "code",
   "execution_count": 4,
   "metadata": {},
   "outputs": [],
   "source": [
    "temperature = 0.\n",
    "posterior_threshold = 0.09\n",
    "posterior_alpha = 0.3"
   ]
  },
  {
   "cell_type": "markdown",
   "metadata": {},
   "source": [
    "## Setting The Prompt\n",
    "\n",
    "The following is the story prompt we will use for generating our story in the demo.\n"
   ]
  },
  {
   "cell_type": "code",
   "execution_count": 5,
   "metadata": {},
   "outputs": [],
   "source": [
    "prompt = \"A chat between a curious user and an artificial intelligence assistant. The assistant gives helpful, detailed, and polite answers to the user's questions. USER: Hi, could you share a tale about a charming llama that grows Medusa-like hair and starts its own coffee shop? ASSISTANT:\""
   ]
  },
  {
   "cell_type": "markdown",
   "metadata": {},
   "source": [
    "## Performing Inference\n",
    "\n",
    "Using the set parameters and the defined function, let's generate our story!\n"
   ]
  },
  {
   "cell_type": "code",
   "execution_count": 6,
   "metadata": {},
   "outputs": [
    {
     "name": "stdout",
     "output_type": "stream",
     "text": [
      "Output length: 403\n",
      "Compression ratio: tensor(2.4724, device='cuda:0')\n"
     ]
    }
   ],
   "source": [
    "with torch.inference_mode():\n",
    "    input_ids = tokenizer([prompt]).input_ids\n",
    "    output_ids, new_token, idx, wall_time = medusa_forward(\n",
    "                    torch.as_tensor(input_ids).cuda(),\n",
    "                    model,\n",
    "                    tokenizer,\n",
    "                    medusa_choices,\n",
    "                    temperature,\n",
    "                    posterior_threshold,\n",
    "                    posterior_alpha,\n",
    "                )\n",
    "    output_ids = output_ids[0][len(input_ids[0]) :]\n",
    "    print(\"Output length:\", output_ids.size(-1))\n",
    "    print(\"Compression ratio:\", new_token / idx)"
   ]
  },
  {
   "cell_type": "code",
   "execution_count": 7,
   "metadata": {},
   "outputs": [
    {
     "name": "stdout",
     "output_type": "stream",
     "text": [
      "Wall times (s): 0.029163013144237238\n"
     ]
    }
   ],
   "source": [
    "print(\"Wall times (s):\", np.mean(wall_time['tree']))"
   ]
  },
  {
   "cell_type": "markdown",
   "metadata": {},
   "source": [
    "## Decoding The Output\n",
    "\n",
    "Let's decode the generated output to obtain our story.\n"
   ]
  },
  {
   "cell_type": "code",
   "execution_count": 8,
   "metadata": {},
   "outputs": [
    {
     "name": "stdout",
     "output_type": "stream",
     "text": [
      "Once upon a time, in a small village nestled in the Andes mountains, there lived a charming llama named Luna. Luna was known for her kind heart and her love of coffee. She would often spend her afternoons sipping on a steaming cup of joe at the local café, chatting with the villagers and enjoying the warmth of the sun on her back.\n",
      "\n",
      "One day, as Luna was grazing on some fresh grass, she noticed that her hair was starting to grow longer and thicker. At first, she didn't think much of it, but as the days went on, her hair continued to grow and change. It became thick and wiry, with sharp spikes protruding from it.\n",
      "\n",
      "Luna was confused and a little scared by her new appearance. She had always been a gentle creature, and now she looked like a monster. She knew that she couldn't stay in the village anymore, so she set off on a journey to find a new home.\n",
      "\n",
      "As she wandered through the mountains, Luna stumbled upon a beautiful clearing. In the center of the clearing stood a small cottage, with a sign hanging outside that read \"Café Llama.\" Luna knew that this was where she belonged.\n",
      "\n",
      "She transformed the cottage into a cozy coffee shop, serving the best coffee in the mountains. The villagers were amazed by Luna's transformation, and they flocked to her café to taste her delicious brews.\n",
      "\n",
      "Luna's Medusa-like hair became her signature style, and she quickly became known as the most charming llama in the land. She spent her days sipping coffee, chatting with customers, and enjoying the warmth of the sun on her back. And she knew that she had finally found her true home.</s>\n"
     ]
    }
   ],
   "source": [
    "output = tokenizer.decode(\n",
    "                    output_ids,\n",
    "                    spaces_between_special_tokens=False,\n",
    "                )\n",
    "print(output)"
   ]
  },
  {
   "cell_type": "markdown",
   "metadata": {},
   "source": [
    "## Analyzing Wall Times\n",
    "\n",
    "We will now break down and analyze the wall times during the inference process.\n",
    "\n",
    "You might notice a significant time consumption during the initialization phase. This is primarily due to the GPU cache initialization process on the first run.\n",
    "\n",
    "For a clearer perspective, you can try rerunning the decoding segment again to observe the differences."
   ]
  },
  {
   "cell_type": "code",
   "execution_count": 9,
   "metadata": {},
   "outputs": [
    {
     "name": "stdout",
     "output_type": "stream",
     "text": [
      "==================================================\n",
      "Wall time init:                              0.900\n",
      "Wall time medusa:                            0.040\n",
      "Wall time Tree:                              4.783\n",
      "Wall time Posterior:                         0.032\n",
      "Wall time Update:                            0.057\n",
      "--------------------------------------------------\n",
      "Wall time portion medusa:                    0.007\n",
      "Wall time portion Tree:                      0.823\n",
      "Wall time portion Posterior:                 0.006\n",
      "Wall time portion Update:                    0.010\n",
      "--------------------------------------------------\n",
      "Tokens/second:                              69.341\n",
      "==================================================\n"
     ]
    }
   ],
   "source": [
    "max_length = 50\n",
    "\n",
    "def format_string(text, value, max_length):\n",
    "    value_str = \"{:.3f}\".format(value)\n",
    "    return f\"{text:<{max_length - len(value_str)}}{value_str}\"\n",
    "\n",
    "time_init = np.sum(wall_time['init'] )\n",
    "time_medusa = np.sum(wall_time['medusa'] )\n",
    "time_tree = np.sum(wall_time['tree'] )\n",
    "time_posterior = np.sum(wall_time['posterior'] )\n",
    "time_update = np.sum(wall_time['update'] )\n",
    "time_total = time_init + time_medusa + time_tree + time_posterior + time_update\n",
    "\n",
    "print('='*max_length)\n",
    "print(format_string(\"Wall time init: \", time_init, max_length))\n",
    "print(format_string(\"Wall time medusa: \", time_medusa, max_length))\n",
    "print(format_string(\"Wall time Tree: \", time_tree, max_length))\n",
    "print(format_string(\"Wall time Posterior: \", time_posterior, max_length))\n",
    "print(format_string(\"Wall time Update: \", time_update, max_length))\n",
    "print('-'*max_length)\n",
    "print(format_string(\"Wall time portion medusa: \", time_medusa / time_total, max_length))\n",
    "print(format_string(\"Wall time portion Tree: \", time_tree / time_total, max_length))\n",
    "print(format_string(\"Wall time portion Posterior: \", time_posterior / time_total, max_length))\n",
    "print(format_string(\"Wall time portion Update: \", time_update / time_total, max_length))\n",
    "print('-'*max_length)\n",
    "print(format_string(\"Tokens/second: \", new_token / time_total, max_length))\n",
    "print('='*max_length)"
   ]
  },
  {
   "cell_type": "code",
   "execution_count": 3,
   "metadata": {},
   "outputs": [
    {
     "name": "stdout",
     "output_type": "stream",
     "text": [
      "==================================================\n",
      "Wall time Tree:                              0.973\n",
      "Wall time Medusa:                            0.008\n",
      "Wall time Posterior:                         0.007\n",
      "Wall time Update:                            0.012\n"
     ]
    }
   ],
   "source": [
    "tree_time = 0.823\n",
    "medusa_time = 0.007 \n",
    "posterior_time = 0.006\n",
    "update_time = 0.010 \n",
    "total_time = tree_time + medusa_time + posterior_time + update_time\n",
    "\n",
    "max_length = 50\n",
    "\n",
    "def format_string(text, value, max_length):\n",
    "    value_str = \"{:.3f}\".format(value)\n",
    "    return f\"{text:<{max_length - len(value_str)}}{value_str}\"\n",
    "print('='*max_length)\n",
    "print(format_string(\"Wall time Tree: \", tree_time / total_time, max_length))\n",
    "print(format_string(\"Wall time Medusa: \", medusa_time / total_time, max_length))\n",
    "print(format_string(\"Wall time Posterior: \", posterior_time / total_time, max_length))\n",
    "print(format_string(\"Wall time Update: \", update_time / total_time, max_length))"
   ]
  }
 ],
 "metadata": {
  "kernelspec": {
   "display_name": "medusa",
   "language": "python",
   "name": "python3"
  },
  "language_info": {
   "codemirror_mode": {
    "name": "ipython",
    "version": 3
   },
   "file_extension": ".py",
   "mimetype": "text/x-python",
   "name": "python",
   "nbconvert_exporter": "python",
   "pygments_lexer": "ipython3",
   "version": "3.9.16"
  },
  "orig_nbformat": 4
 },
 "nbformat": 4,
 "nbformat_minor": 2
}
